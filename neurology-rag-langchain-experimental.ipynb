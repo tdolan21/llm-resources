{
 "cells": [
  {
   "cell_type": "code",
   "execution_count": null,
   "id": "9a12caf6",
   "metadata": {
    "scrolled": true
   },
   "outputs": [],
   "source": [
    "%pip install --upgrade --quiet langchain langchain-community langchainhub langchain-openai chromadb bs4 python-dotenv xmltodict pypdf vllm"
   ]
  },
  {
   "cell_type": "code",
   "execution_count": null,
   "id": "9b3fbbc8",
   "metadata": {
    "scrolled": true
   },
   "outputs": [],
   "source": [
    "pip install sentence-transformers"
   ]
  },
  {
   "cell_type": "code",
   "execution_count": null,
   "id": "eb7ced31",
   "metadata": {},
   "outputs": [],
   "source": [
    "import bs4\n",
    "import dotenv\n",
    "from langchain import hub\n",
    "from langchain.text_splitter import RecursiveCharacterTextSplitter\n",
    "from langchain_community.document_loaders import WebBaseLoader\n",
    "from langchain_community.vectorstores import Chroma\n",
    "from langchain_core.output_parsers import StrOutputParser\n",
    "from langchain_core.runnables import RunnablePassthrough\n",
    "from langchain_openai import ChatOpenAI, OpenAIEmbeddings\n",
    "\n",
    "from langchain_community.document_loaders import PubMedLoader\n",
    "\n",
    "from langchain.text_splitter import CharacterTextSplitter\n",
    "from langchain_community.document_loaders import TextLoader\n",
    "from langchain_community.embeddings.sentence_transformer import (\n",
    "    SentenceTransformerEmbeddings,\n",
    ")\n",
    "from langchain_community.vectorstores import Chroma\n",
    "from langchain_community.document_loaders import PyPDFLoader\n",
    "\n",
    "dotenv.load_dotenv()"
   ]
  },
  {
   "cell_type": "code",
   "execution_count": null,
   "id": "9bad4541",
   "metadata": {},
   "outputs": [],
   "source": [
    "from langchain.embeddings import HuggingFaceEmbeddings\n",
    "from transformers import AutoModel\n",
    "model = AutoModel.from_pretrained('jinaai/jina-embeddings-v2-base-en', trust_remote_code=True) \n",
    "\n",
    "model_name = \"jinaai/jina-embeddings-v2-base-en\"\n",
    "model_kwargs = {'device': 'cpu'}\n",
    "embeddings = HuggingFaceEmbeddings(\n",
    "    model_name=model_name,\n",
    "    model_kwargs=model_kwargs,\n",
    ")"
   ]
  },
  {
   "cell_type": "code",
   "execution_count": null,
   "id": "b8b36fcb",
   "metadata": {},
   "outputs": [],
   "source": [
    "\n",
    "\n",
    "# load the document and split it into chunks\n",
    "loader = PyPDFLoader(\"GBS2.pdf\")\n",
    "docs = loader.load()\n",
    "len(docs)\n",
    "\n",
    "text_splitter = RecursiveCharacterTextSplitter(chunk_size=1000, chunk_overlap=200)\n",
    "splits = text_splitter.split_documents(docs)\n",
    "\n",
    "vectorstore = Chroma.from_documents(documents=splits, embedding=embeddings)\n",
    "\n",
    "# Retrieve and generate using the relevant snippets of the blog.\n",
    "retriever = vectorstore.as_retriever()\n",
    "prompt = hub.pull(\"macadeliccc/rag-document-creation\")"
   ]
  },
  {
   "cell_type": "code",
   "execution_count": null,
   "id": "8c72a74b",
   "metadata": {
    "scrolled": true
   },
   "outputs": [],
   "source": [
    "from langchain_community.llms import VLLM\n",
    "\n",
    "llm = VLLM(\n",
    "    model=\"macadeliccc/laser-dolphin-mixtral-2x7b-dpo-AWQ\",\n",
    "    trust_remote_code=True,\n",
    "    max_new_tokens=512,\n",
    "    vllm_kwargs={\"quantization\": \"awq\"},\n",
    "    seed=42,\n",
    ")\n"
   ]
  },
  {
   "cell_type": "code",
   "execution_count": null,
   "id": "cbec2c23",
   "metadata": {},
   "outputs": [],
   "source": [
    "dr_name=\"Dr. Doe\"\n",
    "patient_name=\"Timothy Dolan\"\n",
    "hospital_name=\"Heidlberg University Hospital\"\n",
    "condition=\"Guillain-Barré Syndrome (GBS)\"\n",
    "date=\"2/20/24\"\n",
    "patient_information= \"\"\"\n",
    "Clinical Examination\n",
    "\n",
    "    Vital Signs: BP 125/80 mmHg, HR 88 bpm, Temp 37.2°C, RR 16/min\n",
    "    General Examination: Alert, oriented, no distress\n",
    "    Neurological Examination:\n",
    "        Mental Status: Normal, no cognitive impairment\n",
    "        Cranial Nerves: Intact\n",
    "        Motor Function: Weakness observed in bilateral lower extremities, 3/5 strength; upper extremities strength 5/5\n",
    "        Sensory Examination: Decreased sensation to light touch and pinprick in lower extremities; proprioception intact\n",
    "        Reflexes: Absent ankle reflexes; reduced knee reflexes\n",
    "        Coordination: No ataxia noted, but patient has difficulty with heel-to-toe walking due to weakness\n",
    "    Gait: Unable to walk without assistance, ataxic gait\n",
    "\n",
    "Laboratory Tests\n",
    "\n",
    "    Complete Blood Count (CBC): Within normal limits\n",
    "    Electrolytes: Within normal limits\n",
    "    Liver Function Tests (LFTs): Within normal limits\n",
    "    Cerebrospinal Fluid (CSF) Analysis: Albuminocytological dissociation (high protein with normal cell count)\n",
    "    Nerve Conduction Studies: Slowed conduction velocities and prolonged distal latencies consistent with demyelinating neuropathy\n",
    "\n",
    "Imaging\n",
    "\n",
    "    MRI Spine: No spinal cord compression or other abnormalities\n",
    "\n",
    "Diagnosis\n",
    "\n",
    "    Primary Diagnosis: Guillain-Barré Syndrome (GBS)\n",
    "    Secondary Diagnoses: None\n",
    "\n",
    "Treatment Plan\n",
    "\n",
    "    Hospitalization in the neurology unit for monitoring and treatment.\n",
    "    Intravenous Immunoglobulin (IVIG) therapy initiated.\n",
    "    Physical Therapy consultation for mobility and strength exercises.\n",
    "    Regular monitoring of respiratory function and swallowing ability to preemptively address potential complications.\n",
    "    Pain Management as needed for neuropathic pain.\n",
    "\n",
    "Follow-Up and Prognosis\n",
    "\n",
    "    Patient to be monitored daily for signs of disease progression, particularly respiratory involvement.\n",
    "    Expected to begin showing signs of improvement within weeks, with a gradual recovery over several months. Full recovery is possible but may take up to a year or more for some patients.\n",
    "    Scheduled for follow-up appointments in the outpatient neurology clinic after discharge for ongoing assessment and rehabilitation.\n",
    "\"\"\""
   ]
  },
  {
   "cell_type": "code",
   "execution_count": null,
   "id": "886d7644",
   "metadata": {},
   "outputs": [],
   "source": [
    "def format_docs(docs):\n",
    "    return \"\\n\\n\".join(doc.page_content for doc in docs)\n",
    "# Example wrapper for static values\n",
    "def return_value(val):\n",
    "    # Modified to accept an unused argument\n",
    "    return lambda _: val\n",
    "\n",
    "\n",
    "rag_chain = (\n",
    "    {\n",
    "    \"medical_documents\": retriever | format_docs,\n",
    "    \"dr_input\": RunnablePassthrough(),\n",
    "    \"doctor_name\": return_value(dr_name),\n",
    "    \"patient_name\": return_value(patient_name),\n",
    "    \"patient_information\": return_value(patient_information),\n",
    "    \"hospital_name\": return_value(hospital_name),\n",
    "    \"condition\": return_value(condition),\n",
    "    \"date\": return_value(date),\n",
    "    }\n",
    "    | prompt\n",
    "    | llm\n",
    "    | StrOutputParser()\n",
    ")\n",
    "\n",
    "rag_chain.invoke(\"Write the body of the discharge letter based on the patient information and doctor input you have been provided. If you need to you can access medical documents to support your claim.\")"
   ]
  },
  {
   "cell_type": "code",
   "execution_count": null,
   "id": "bd6b88cd",
   "metadata": {},
   "outputs": [],
   "source": [
    "# cleanup\n",
    "vectorstore.delete_collection()"
   ]
  }
 ],
 "metadata": {
  "kernelspec": {
   "display_name": "Python 3 (ipykernel)",
   "language": "python",
   "name": "python3"
  },
  "language_info": {
   "codemirror_mode": {
    "name": "ipython",
    "version": 3
   },
   "file_extension": ".py",
   "mimetype": "text/x-python",
   "name": "python",
   "nbconvert_exporter": "python",
   "pygments_lexer": "ipython3",
   "version": "3.11.4"
  }
 },
 "nbformat": 4,
 "nbformat_minor": 5
}
