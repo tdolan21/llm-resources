{
 "cells": [
  {
   "cell_type": "code",
   "execution_count": 1,
   "id": "9a12caf6",
   "metadata": {
    "scrolled": true
   },
   "outputs": [
    {
     "name": "stdout",
     "output_type": "stream",
     "text": [
      "Note: you may need to restart the kernel to use updated packages.\n"
     ]
    }
   ],
   "source": [
    "%pip install --upgrade --quiet langchain langchain-community langchainhub langchain-openai chromadb bs4 python-dotenv xmltodict pypdf vllm"
   ]
  },
  {
   "cell_type": "code",
   "execution_count": 2,
   "id": "9b3fbbc8",
   "metadata": {
    "scrolled": true
   },
   "outputs": [
    {
     "name": "stdout",
     "output_type": "stream",
     "text": [
      "Requirement already satisfied: sentence-transformers in /home/macadeliccc/anaconda3/lib/python3.11/site-packages (2.3.1)\n",
      "Requirement already satisfied: transformers<5.0.0,>=4.32.0 in /home/macadeliccc/anaconda3/lib/python3.11/site-packages (from sentence-transformers) (4.37.2)\n",
      "Requirement already satisfied: tqdm in /home/macadeliccc/anaconda3/lib/python3.11/site-packages (from sentence-transformers) (4.66.1)\n",
      "Requirement already satisfied: torch>=1.11.0 in /home/macadeliccc/anaconda3/lib/python3.11/site-packages (from sentence-transformers) (2.1.2)\n",
      "Requirement already satisfied: numpy in /home/macadeliccc/anaconda3/lib/python3.11/site-packages (from sentence-transformers) (1.24.4)\n",
      "Requirement already satisfied: scikit-learn in /home/macadeliccc/anaconda3/lib/python3.11/site-packages (from sentence-transformers) (1.3.2)\n",
      "Requirement already satisfied: scipy in /home/macadeliccc/anaconda3/lib/python3.11/site-packages (from sentence-transformers) (1.11.3)\n",
      "Requirement already satisfied: nltk in /home/macadeliccc/anaconda3/lib/python3.11/site-packages (from sentence-transformers) (3.8.1)\n",
      "Requirement already satisfied: sentencepiece in /home/macadeliccc/anaconda3/lib/python3.11/site-packages (from sentence-transformers) (0.1.99)\n",
      "Requirement already satisfied: huggingface-hub>=0.15.1 in /home/macadeliccc/anaconda3/lib/python3.11/site-packages (from sentence-transformers) (0.20.3)\n",
      "Requirement already satisfied: Pillow in /home/macadeliccc/anaconda3/lib/python3.11/site-packages (from sentence-transformers) (9.4.0)\n",
      "Requirement already satisfied: filelock in /home/macadeliccc/anaconda3/lib/python3.11/site-packages (from huggingface-hub>=0.15.1->sentence-transformers) (3.13.1)\n",
      "Requirement already satisfied: fsspec>=2023.5.0 in /home/macadeliccc/anaconda3/lib/python3.11/site-packages (from huggingface-hub>=0.15.1->sentence-transformers) (2023.10.0)\n",
      "Requirement already satisfied: requests in /home/macadeliccc/anaconda3/lib/python3.11/site-packages (from huggingface-hub>=0.15.1->sentence-transformers) (2.31.0)\n",
      "Requirement already satisfied: pyyaml>=5.1 in /home/macadeliccc/anaconda3/lib/python3.11/site-packages (from huggingface-hub>=0.15.1->sentence-transformers) (6.0.1)\n",
      "Requirement already satisfied: typing-extensions>=3.7.4.3 in /home/macadeliccc/anaconda3/lib/python3.11/site-packages (from huggingface-hub>=0.15.1->sentence-transformers) (4.9.0)\n",
      "Requirement already satisfied: packaging>=20.9 in /home/macadeliccc/anaconda3/lib/python3.11/site-packages (from huggingface-hub>=0.15.1->sentence-transformers) (23.2)\n",
      "Requirement already satisfied: sympy in /home/macadeliccc/anaconda3/lib/python3.11/site-packages (from torch>=1.11.0->sentence-transformers) (1.12)\n",
      "Requirement already satisfied: networkx in /home/macadeliccc/anaconda3/lib/python3.11/site-packages (from torch>=1.11.0->sentence-transformers) (3.2.1)\n",
      "Requirement already satisfied: jinja2 in /home/macadeliccc/anaconda3/lib/python3.11/site-packages (from torch>=1.11.0->sentence-transformers) (3.1.3)\n",
      "Requirement already satisfied: nvidia-cuda-nvrtc-cu12==12.1.105 in /home/macadeliccc/anaconda3/lib/python3.11/site-packages (from torch>=1.11.0->sentence-transformers) (12.1.105)\n",
      "Requirement already satisfied: nvidia-cuda-runtime-cu12==12.1.105 in /home/macadeliccc/anaconda3/lib/python3.11/site-packages (from torch>=1.11.0->sentence-transformers) (12.1.105)\n",
      "Requirement already satisfied: nvidia-cuda-cupti-cu12==12.1.105 in /home/macadeliccc/anaconda3/lib/python3.11/site-packages (from torch>=1.11.0->sentence-transformers) (12.1.105)\n",
      "Requirement already satisfied: nvidia-cudnn-cu12==8.9.2.26 in /home/macadeliccc/anaconda3/lib/python3.11/site-packages (from torch>=1.11.0->sentence-transformers) (8.9.2.26)\n",
      "Requirement already satisfied: nvidia-cublas-cu12==12.1.3.1 in /home/macadeliccc/anaconda3/lib/python3.11/site-packages (from torch>=1.11.0->sentence-transformers) (12.1.3.1)\n",
      "Requirement already satisfied: nvidia-cufft-cu12==11.0.2.54 in /home/macadeliccc/anaconda3/lib/python3.11/site-packages (from torch>=1.11.0->sentence-transformers) (11.0.2.54)\n",
      "Requirement already satisfied: nvidia-curand-cu12==10.3.2.106 in /home/macadeliccc/anaconda3/lib/python3.11/site-packages (from torch>=1.11.0->sentence-transformers) (10.3.2.106)\n",
      "Requirement already satisfied: nvidia-cusolver-cu12==11.4.5.107 in /home/macadeliccc/anaconda3/lib/python3.11/site-packages (from torch>=1.11.0->sentence-transformers) (11.4.5.107)\n",
      "Requirement already satisfied: nvidia-cusparse-cu12==12.1.0.106 in /home/macadeliccc/anaconda3/lib/python3.11/site-packages (from torch>=1.11.0->sentence-transformers) (12.1.0.106)\n",
      "Requirement already satisfied: nvidia-nccl-cu12==2.18.1 in /home/macadeliccc/anaconda3/lib/python3.11/site-packages (from torch>=1.11.0->sentence-transformers) (2.18.1)\n",
      "Requirement already satisfied: nvidia-nvtx-cu12==12.1.105 in /home/macadeliccc/anaconda3/lib/python3.11/site-packages (from torch>=1.11.0->sentence-transformers) (12.1.105)\n",
      "Requirement already satisfied: triton==2.1.0 in /home/macadeliccc/anaconda3/lib/python3.11/site-packages (from torch>=1.11.0->sentence-transformers) (2.1.0)\n",
      "Requirement already satisfied: nvidia-nvjitlink-cu12 in /home/macadeliccc/anaconda3/lib/python3.11/site-packages (from nvidia-cusolver-cu12==11.4.5.107->torch>=1.11.0->sentence-transformers) (12.3.101)\n",
      "Requirement already satisfied: regex!=2019.12.17 in /home/macadeliccc/anaconda3/lib/python3.11/site-packages (from transformers<5.0.0,>=4.32.0->sentence-transformers) (2023.10.3)\n",
      "Requirement already satisfied: tokenizers<0.19,>=0.14 in /home/macadeliccc/anaconda3/lib/python3.11/site-packages (from transformers<5.0.0,>=4.32.0->sentence-transformers) (0.15.2)\n",
      "Requirement already satisfied: safetensors>=0.4.1 in /home/macadeliccc/anaconda3/lib/python3.11/site-packages (from transformers<5.0.0,>=4.32.0->sentence-transformers) (0.4.1)\n",
      "Requirement already satisfied: click in /home/macadeliccc/anaconda3/lib/python3.11/site-packages (from nltk->sentence-transformers) (8.1.7)\n",
      "Requirement already satisfied: joblib in /home/macadeliccc/anaconda3/lib/python3.11/site-packages (from nltk->sentence-transformers) (1.3.2)\n",
      "Requirement already satisfied: threadpoolctl>=2.0.0 in /home/macadeliccc/anaconda3/lib/python3.11/site-packages (from scikit-learn->sentence-transformers) (3.2.0)\n",
      "Requirement already satisfied: MarkupSafe>=2.0 in /home/macadeliccc/anaconda3/lib/python3.11/site-packages (from jinja2->torch>=1.11.0->sentence-transformers) (2.1.3)\n",
      "Requirement already satisfied: charset-normalizer<4,>=2 in /home/macadeliccc/anaconda3/lib/python3.11/site-packages (from requests->huggingface-hub>=0.15.1->sentence-transformers) (3.3.2)\n",
      "Requirement already satisfied: idna<4,>=2.5 in /home/macadeliccc/anaconda3/lib/python3.11/site-packages (from requests->huggingface-hub>=0.15.1->sentence-transformers) (3.6)\n",
      "Requirement already satisfied: urllib3<3,>=1.21.1 in /home/macadeliccc/anaconda3/lib/python3.11/site-packages (from requests->huggingface-hub>=0.15.1->sentence-transformers) (2.0.7)\n",
      "Requirement already satisfied: certifi>=2017.4.17 in /home/macadeliccc/anaconda3/lib/python3.11/site-packages (from requests->huggingface-hub>=0.15.1->sentence-transformers) (2023.11.17)\n",
      "Requirement already satisfied: mpmath>=0.19 in /home/macadeliccc/anaconda3/lib/python3.11/site-packages (from sympy->torch>=1.11.0->sentence-transformers) (1.3.0)\n",
      "Note: you may need to restart the kernel to use updated packages.\n"
     ]
    }
   ],
   "source": [
    "pip install sentence-transformers"
   ]
  },
  {
   "cell_type": "code",
   "execution_count": 3,
   "id": "eb7ced31",
   "metadata": {},
   "outputs": [
    {
     "data": {
      "text/plain": [
       "True"
      ]
     },
     "execution_count": 3,
     "metadata": {},
     "output_type": "execute_result"
    }
   ],
   "source": [
    "import bs4\n",
    "import dotenv\n",
    "from langchain import hub\n",
    "from langchain.text_splitter import RecursiveCharacterTextSplitter\n",
    "from langchain_community.document_loaders import WebBaseLoader\n",
    "from langchain_community.vectorstores import Chroma\n",
    "from langchain_core.output_parsers import StrOutputParser\n",
    "from langchain_core.runnables import RunnablePassthrough\n",
    "from langchain_openai import ChatOpenAI, OpenAIEmbeddings\n",
    "\n",
    "from langchain_community.document_loaders import PubMedLoader\n",
    "\n",
    "from langchain.text_splitter import CharacterTextSplitter\n",
    "from langchain_community.document_loaders import TextLoader\n",
    "from langchain_community.embeddings.sentence_transformer import (\n",
    "    SentenceTransformerEmbeddings,\n",
    ")\n",
    "from langchain_community.vectorstores import Chroma\n",
    "from langchain_community.document_loaders import PyPDFLoader\n",
    "\n",
    "dotenv.load_dotenv()"
   ]
  },
  {
   "cell_type": "code",
   "execution_count": 4,
   "id": "9bad4541",
   "metadata": {},
   "outputs": [
    {
     "name": "stderr",
     "output_type": "stream",
     "text": [
      "Some weights of BertModel were not initialized from the model checkpoint at jinaai/jina-embeddings-v2-base-en and are newly initialized: ['embeddings.position_embeddings.weight', 'encoder.layer.0.intermediate.dense.bias', 'encoder.layer.0.intermediate.dense.weight', 'encoder.layer.0.output.LayerNorm.bias', 'encoder.layer.0.output.LayerNorm.weight', 'encoder.layer.0.output.dense.bias', 'encoder.layer.0.output.dense.weight', 'encoder.layer.1.intermediate.dense.bias', 'encoder.layer.1.intermediate.dense.weight', 'encoder.layer.1.output.LayerNorm.bias', 'encoder.layer.1.output.LayerNorm.weight', 'encoder.layer.1.output.dense.bias', 'encoder.layer.1.output.dense.weight', 'encoder.layer.10.intermediate.dense.bias', 'encoder.layer.10.intermediate.dense.weight', 'encoder.layer.10.output.LayerNorm.bias', 'encoder.layer.10.output.LayerNorm.weight', 'encoder.layer.10.output.dense.bias', 'encoder.layer.10.output.dense.weight', 'encoder.layer.11.intermediate.dense.bias', 'encoder.layer.11.intermediate.dense.weight', 'encoder.layer.11.output.LayerNorm.bias', 'encoder.layer.11.output.LayerNorm.weight', 'encoder.layer.11.output.dense.bias', 'encoder.layer.11.output.dense.weight', 'encoder.layer.2.intermediate.dense.bias', 'encoder.layer.2.intermediate.dense.weight', 'encoder.layer.2.output.LayerNorm.bias', 'encoder.layer.2.output.LayerNorm.weight', 'encoder.layer.2.output.dense.bias', 'encoder.layer.2.output.dense.weight', 'encoder.layer.3.intermediate.dense.bias', 'encoder.layer.3.intermediate.dense.weight', 'encoder.layer.3.output.LayerNorm.bias', 'encoder.layer.3.output.LayerNorm.weight', 'encoder.layer.3.output.dense.bias', 'encoder.layer.3.output.dense.weight', 'encoder.layer.4.intermediate.dense.bias', 'encoder.layer.4.intermediate.dense.weight', 'encoder.layer.4.output.LayerNorm.bias', 'encoder.layer.4.output.LayerNorm.weight', 'encoder.layer.4.output.dense.bias', 'encoder.layer.4.output.dense.weight', 'encoder.layer.5.intermediate.dense.bias', 'encoder.layer.5.intermediate.dense.weight', 'encoder.layer.5.output.LayerNorm.bias', 'encoder.layer.5.output.LayerNorm.weight', 'encoder.layer.5.output.dense.bias', 'encoder.layer.5.output.dense.weight', 'encoder.layer.6.intermediate.dense.bias', 'encoder.layer.6.intermediate.dense.weight', 'encoder.layer.6.output.LayerNorm.bias', 'encoder.layer.6.output.LayerNorm.weight', 'encoder.layer.6.output.dense.bias', 'encoder.layer.6.output.dense.weight', 'encoder.layer.7.intermediate.dense.bias', 'encoder.layer.7.intermediate.dense.weight', 'encoder.layer.7.output.LayerNorm.bias', 'encoder.layer.7.output.LayerNorm.weight', 'encoder.layer.7.output.dense.bias', 'encoder.layer.7.output.dense.weight', 'encoder.layer.8.intermediate.dense.bias', 'encoder.layer.8.intermediate.dense.weight', 'encoder.layer.8.output.LayerNorm.bias', 'encoder.layer.8.output.LayerNorm.weight', 'encoder.layer.8.output.dense.bias', 'encoder.layer.8.output.dense.weight', 'encoder.layer.9.intermediate.dense.bias', 'encoder.layer.9.intermediate.dense.weight', 'encoder.layer.9.output.LayerNorm.bias', 'encoder.layer.9.output.LayerNorm.weight', 'encoder.layer.9.output.dense.bias', 'encoder.layer.9.output.dense.weight']\n",
      "You should probably TRAIN this model on a down-stream task to be able to use it for predictions and inference.\n"
     ]
    }
   ],
   "source": [
    "from langchain.embeddings import HuggingFaceEmbeddings\n",
    "from transformers import AutoModel\n",
    "model = AutoModel.from_pretrained('jinaai/jina-embeddings-v2-base-en', trust_remote_code=True) \n",
    "\n",
    "model_name = \"jinaai/jina-embeddings-v2-base-en\"\n",
    "model_kwargs = {'device': 'cpu'}\n",
    "embeddings = HuggingFaceEmbeddings(\n",
    "    model_name=model_name,\n",
    "    model_kwargs=model_kwargs,\n",
    ")"
   ]
  },
  {
   "cell_type": "code",
   "execution_count": 5,
   "id": "b8b36fcb",
   "metadata": {},
   "outputs": [],
   "source": [
    "\n",
    "\n",
    "# load the document and split it into chunks\n",
    "loader = PyPDFLoader(\"GBS2.pdf\")\n",
    "docs = loader.load()\n",
    "len(docs)\n",
    "\n",
    "text_splitter = RecursiveCharacterTextSplitter(chunk_size=1000, chunk_overlap=200)\n",
    "splits = text_splitter.split_documents(docs)\n",
    "\n",
    "vectorstore = Chroma.from_documents(documents=splits, embedding=embeddings)\n",
    "\n",
    "# Retrieve and generate using the relevant snippets of the blog.\n",
    "retriever = vectorstore.as_retriever()\n",
    "prompt = hub.pull(\"macadeliccc/rag-document-creation\")"
   ]
  },
  {
   "cell_type": "code",
   "execution_count": 6,
   "id": "8c72a74b",
   "metadata": {
    "scrolled": true
   },
   "outputs": [
    {
     "name": "stdout",
     "output_type": "stream",
     "text": [
      "WARNING 02-20 16:16:04 config.py:180] awq quantization is not fully optimized yet. The speed can be slower than non-quantized models.\n",
      "INFO 02-20 16:16:04 llm_engine.py:79] Initializing an LLM engine with config: model='macadeliccc/laser-dolphin-mixtral-2x7b-dpo-AWQ', tokenizer='macadeliccc/laser-dolphin-mixtral-2x7b-dpo-AWQ', tokenizer_mode=auto, revision=None, tokenizer_revision=None, trust_remote_code=True, dtype=torch.float16, max_seq_len=32768, download_dir=None, load_format=auto, tensor_parallel_size=1, disable_custom_all_reduce=False, quantization=awq, enforce_eager=False, kv_cache_dtype=auto, device_config=cuda, seed=0)\n",
      "INFO 02-20 16:16:06 weight_utils.py:163] Using model weights format ['*.safetensors']\n",
      "INFO 02-20 16:16:12 llm_engine.py:337] # GPU blocks: 5308, # CPU blocks: 2048\n",
      "INFO 02-20 16:16:13 model_runner.py:666] Capturing the model for CUDA graphs. This may lead to unexpected consequences if the model is not static. To run the model in eager mode, set 'enforce_eager=True' or use '--enforce-eager' in the CLI.\n",
      "INFO 02-20 16:16:13 model_runner.py:670] CUDA graphs can take additional 1~3 GiB memory per GPU. If you are running out of memory, consider decreasing `gpu_memory_utilization` or enforcing eager mode. You can also reduce the `max_num_seqs` as needed to decrease memory usage.\n",
      "INFO 02-20 16:16:19 model_runner.py:738] Graph capturing finished in 6 secs.\n"
     ]
    }
   ],
   "source": [
    "from langchain_community.llms import VLLM\n",
    "\n",
    "llm = VLLM(\n",
    "    model=\"macadeliccc/laser-dolphin-mixtral-2x7b-dpo-AWQ\",\n",
    "    trust_remote_code=True,\n",
    "    max_new_tokens=512,\n",
    "    vllm_kwargs={\"quantization\": \"awq\"},\n",
    "    seed=42,\n",
    ")\n"
   ]
  },
  {
   "cell_type": "code",
   "execution_count": 7,
   "id": "cbec2c23",
   "metadata": {},
   "outputs": [],
   "source": [
    "dr_name=\"Dr.Kevorkian\"\n",
    "patient_name=\"Timothy Dolan\"\n",
    "hospital_name=\"Heidlberg University Hospital\"\n",
    "condition=\"Guillain-Barré Syndrome (GBS)\"\n",
    "date=\"2/20/24\"\n",
    "patient_information= \"\"\"\n",
    "Clinical Examination\n",
    "\n",
    "    Vital Signs: BP 125/80 mmHg, HR 88 bpm, Temp 37.2°C, RR 16/min\n",
    "    General Examination: Alert, oriented, no distress\n",
    "    Neurological Examination:\n",
    "        Mental Status: Normal, no cognitive impairment\n",
    "        Cranial Nerves: Intact\n",
    "        Motor Function: Weakness observed in bilateral lower extremities, 3/5 strength; upper extremities strength 5/5\n",
    "        Sensory Examination: Decreased sensation to light touch and pinprick in lower extremities; proprioception intact\n",
    "        Reflexes: Absent ankle reflexes; reduced knee reflexes\n",
    "        Coordination: No ataxia noted, but patient has difficulty with heel-to-toe walking due to weakness\n",
    "    Gait: Unable to walk without assistance, ataxic gait\n",
    "\n",
    "Laboratory Tests\n",
    "\n",
    "    Complete Blood Count (CBC): Within normal limits\n",
    "    Electrolytes: Within normal limits\n",
    "    Liver Function Tests (LFTs): Within normal limits\n",
    "    Cerebrospinal Fluid (CSF) Analysis: Albuminocytological dissociation (high protein with normal cell count)\n",
    "    Nerve Conduction Studies: Slowed conduction velocities and prolonged distal latencies consistent with demyelinating neuropathy\n",
    "\n",
    "Imaging\n",
    "\n",
    "    MRI Spine: No spinal cord compression or other abnormalities\n",
    "\n",
    "Diagnosis\n",
    "\n",
    "    Primary Diagnosis: Guillain-Barré Syndrome (GBS)\n",
    "    Secondary Diagnoses: None\n",
    "\n",
    "Treatment Plan\n",
    "\n",
    "    Hospitalization in the neurology unit for monitoring and treatment.\n",
    "    Intravenous Immunoglobulin (IVIG) therapy initiated.\n",
    "    Physical Therapy consultation for mobility and strength exercises.\n",
    "    Regular monitoring of respiratory function and swallowing ability to preemptively address potential complications.\n",
    "    Pain Management as needed for neuropathic pain.\n",
    "\n",
    "Follow-Up and Prognosis\n",
    "\n",
    "    Patient to be monitored daily for signs of disease progression, particularly respiratory involvement.\n",
    "    Expected to begin showing signs of improvement within weeks, with a gradual recovery over several months. Full recovery is possible but may take up to a year or more for some patients.\n",
    "    Scheduled for follow-up appointments in the outpatient neurology clinic after discharge for ongoing assessment and rehabilitation.\n",
    "\"\"\""
   ]
  },
  {
   "cell_type": "code",
   "execution_count": 8,
   "id": "886d7644",
   "metadata": {},
   "outputs": [
    {
     "name": "stderr",
     "output_type": "stream",
     "text": [
      "Processed prompts: 100%|██████████████████████████| 1/1 [00:05<00:00,  5.91s/it]\n"
     ]
    },
    {
     "data": {
      "text/plain": [
       "'\\n\\nDear Timothy Dolan,\\n\\nWe are writing to inform you about your discharge from the Neurology unit at Heidlberg University Hospital following your recent hospitalization. Your thorough evaluation and careful monitoring during your stay have confirmed the primary diagnosis of Guillain-Barré Syndrome (GBS).\\n\\nDuring your hospitalization, you received much-needed support and treatment, including Intravenous Immunoglobulin (IVIG) therapy, physical therapy, and regular medical evaluations. The primary objectives of your treatment were to alleviate symptoms, prevent complications, and initiate the recovery process.\\n\\nAs a result of your treatment and care, you have shown signs of improvement in your motor function and overall well-being. However, it is essential to continue with ongoing follow-ups in the outpatient neurology clinic for regular assessments and support in your rehabilitation journey.\\n\\nWe have scheduled follow-up appointments for you, ensuring our multidisciplinary team remains involved in your care. During these appointments, we will monitor your progress, make any necessary adjustments to your treatment plan, and provide the necessary resources and support for your rehabilitation.\\n\\nIn addition, we encourage you to join support groups, such as the GBS Support Group (www.gbs.org.uk) or the GBS Foundation International (www.gbs-cidp.org), to connect with other patients and access valuable information.\\n\\nAs you transition to outpatient care, please remember to keep all your follow-up appointments and be attentive to any changes in your condition. Your primary care provider should also be kept informed of your diagnosis and treatment plan.\\n\\nWith the right care, support, and resources, we expect you to make steady progress in your recovery. You may experience setbacks during your journey, but with each step forward, your independence and quality of life will improve. We are here to support you every step of the way.\\n\\nThank you for entrusting us with your care during this challenging time. If you have any questions or concerns, do not hesitate to reach out to our team.\\n\\nSigned,\\nDr. Kevorkian\\nHeidlberg University Hospital'"
      ]
     },
     "execution_count": 8,
     "metadata": {},
     "output_type": "execute_result"
    }
   ],
   "source": [
    "def format_docs(docs):\n",
    "    return \"\\n\\n\".join(doc.page_content for doc in docs)\n",
    "# Example wrapper for static values\n",
    "def return_value(val):\n",
    "    # Modified to accept an unused argument\n",
    "    return lambda _: val\n",
    "\n",
    "\n",
    "rag_chain = (\n",
    "    {\n",
    "    \"medical_documents\": retriever | format_docs,\n",
    "    \"dr_input\": RunnablePassthrough(),\n",
    "    \"doctor_name\": return_value(dr_name),\n",
    "    \"patient_name\": return_value(patient_name),\n",
    "    \"patient_information\": return_value(patient_information),\n",
    "    \"hospital_name\": return_value(hospital_name),\n",
    "    \"condition\": return_value(condition),\n",
    "    \"date\": return_value(date),\n",
    "    }\n",
    "    | prompt\n",
    "    | llm\n",
    "    | StrOutputParser()\n",
    ")\n",
    "\n",
    "rag_chain.invoke(\"Write the body of the discharge letter based on the patient information and doctor input you have been provided. If you need to you can access medical documents to support your claim.\")"
   ]
  },
  {
   "cell_type": "code",
   "execution_count": 9,
   "id": "bd6b88cd",
   "metadata": {},
   "outputs": [],
   "source": [
    "# cleanup\n",
    "vectorstore.delete_collection()"
   ]
  }
 ],
 "metadata": {
  "kernelspec": {
   "display_name": "Python 3 (ipykernel)",
   "language": "python",
   "name": "python3"
  },
  "language_info": {
   "codemirror_mode": {
    "name": "ipython",
    "version": 3
   },
   "file_extension": ".py",
   "mimetype": "text/x-python",
   "name": "python",
   "nbconvert_exporter": "python",
   "pygments_lexer": "ipython3",
   "version": "3.11.4"
  }
 },
 "nbformat": 4,
 "nbformat_minor": 5
}
